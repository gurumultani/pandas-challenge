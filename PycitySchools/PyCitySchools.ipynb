{
 "cells": [
  {
   "cell_type": "code",
   "execution_count": 65,
   "metadata": {},
   "outputs": [],
   "source": [
    "# Dependencies and Setup\n",
    "import pandas as pd\n",
    "from pathlib import Path\n",
    "\n",
    "# File to Load (Remember to Change These)\n",
    "school_data = Path(\"../Resources/schools_complete.csv\")\n",
    "student_data = Path(\"../Resources/students_complete.csv\")\n",
    "\n",
    "# Read School and Student Data File and store into Pandas DataFrames\n",
    "school_data = pd.read_csv(school_data)\n",
    "student_data = pd.read_csv(student_data)\n",
    "\n",
    "# Combine the data into a single dataset.  \n",
    "school_data_complete = pd.merge(student_data, school_data, how=\"left\", on=[\"school_name\", \"school_name\"])\n"
   ]
  },
  {
   "cell_type": "markdown",
   "metadata": {},
   "source": [
    "## Local Government Area Summary"
   ]
  },
  {
   "cell_type": "code",
   "execution_count": 66,
   "metadata": {},
   "outputs": [
    {
     "name": "stdout",
     "output_type": "stream",
     "text": [
      " Total Schools  Total Students   Total Budget  Average Maths Score  Average Reading Score  % Passing Maths  % Passing Reading  % Overall Passing\n",
      "            15           39170 $24,649,428.00            70.338192              69.980138        86.078632          84.426857          72.808272\n"
     ]
    }
   ],
   "source": [
    "#Calculating the key metrics\n",
    "\n",
    "#Calculate the total number of umique schools\n",
    "\n",
    "total_schools = school_data['school_name'].nunique()\n",
    "\n",
    "# Calculate the total number of students\n",
    "\n",
    "total_students= school_data_complete['Student ID'].nunique()\n",
    "\n",
    "# Calculate the total budget\n",
    "\n",
    "total_budget = school_data['budget'].sum()\n",
    "\n",
    "# Convert the budget values to dollars\n",
    "\n",
    "total_budget= '${:,.2f}'.format(total_budget)\n",
    "# Calculate the average maths score \n",
    "\n",
    "average_maths_score = school_data_complete['maths_score'].mean()\n",
    "\n",
    "# Calculate the average reading score\n",
    "\n",
    "average_reading_score = school_data_complete['reading_score'].mean()\n",
    "\n",
    "# Calculate the percentage of students with a passing maths score (50 or greater)\n",
    "\n",
    "passing_maths = school_data_complete[(school_data_complete['maths_score'] >= 50)].shape[0]\n",
    "percentage_passing_maths = (passing_maths / total_students) * 100\n",
    "\n",
    "# Calculate the percentage of students with a passing reading score (50 or greater)\n",
    "\n",
    "passing_reading = school_data_complete[(school_data_complete['reading_score'] >= 50)].shape[0]\n",
    "percentage_passing_reading = (passing_reading / total_students) * 100\n",
    "\n",
    "# Calculate the percentage of students who passed maths **and** reading (% Overall Passing)\n",
    "\n",
    "passing_both = school_data_complete[(school_data_complete['maths_score'] >= 50) & (school_data_complete['reading_score'] >= 50)].shape[0]\n",
    "percentage_overall_passing = (passing_both / total_students) * 100\n",
    "\n",
    "\n",
    "\n",
    "# Create a dataframe for the ket metrics\n",
    "data = {\n",
    "    'Total Schools': [total_schools],\n",
    "    'Total Students': [total_students],\n",
    "    'Total Budget': [total_budget],\n",
    "    'Average Maths Score': [average_maths_score],\n",
    "    'Average Reading Score': [average_reading_score],\n",
    "    '% Passing Maths': [percentage_passing_maths],\n",
    "    '% Passing Reading': [percentage_passing_reading],\n",
    "    '% Overall Passing': [percentage_overall_passing]\n",
    "}\n",
    "\n",
    "area_summary_df = pd.DataFrame(data)\n",
    "\n",
    "# Display the DataFrame\n",
    "print(area_summary_df.to_string(index=False))\n",
    "\n"
   ]
  },
  {
   "cell_type": "markdown",
   "metadata": {},
   "source": [
    " * **School Summary**"
   ]
  },
  {
   "cell_type": "code",
   "execution_count": 67,
   "metadata": {},
   "outputs": [
    {
     "name": "stdout",
     "output_type": "stream",
     "text": [
      "          school_name School Type  Total Students Total School Budget Per Student Budget  Average Maths Score  Average Reading Score  % Passing Maths  % Passing Reading  % Overall Passing\n",
      "   Bailey High School  Government            4976       $3,124,928.00            $628.00            72.352894              71.008842        91.639871          87.379421          80.084405\n",
      "  Cabrera High School Independent            1858       $1,081,356.00            $582.00            71.657158              71.359526        90.850377          89.074273          80.785791\n",
      " Figueroa High School  Government            2949       $1,884,411.00            $639.00            68.698542              69.077993        81.654798          82.807731          67.650051\n",
      "     Ford High School  Government            2739       $1,763,916.00            $644.00            69.091274              69.572472        82.438846          82.219788          67.469880\n",
      "  Griffin High School Independent            1468         $917,500.00            $625.00            71.788147              71.245232        91.212534          88.487738          81.335150\n",
      "Hernandez High School  Government            4635       $3,022,020.00            $652.00            68.874865              69.186408        80.949299          81.877023          66.364617\n",
      "   Holden High School Independent             427         $248,087.00            $581.00            72.583138              71.660422        89.929742          88.524590          78.922717\n",
      "    Huang High School  Government            2917       $1,910,635.00            $655.00            68.935207              68.910525        81.693521          81.453548          66.712376\n",
      "  Johnson High School  Government            4761       $3,094,650.00            $650.00            68.843100              69.039277        82.062592          81.978576          67.191766\n",
      "     Pena High School Independent             962         $585,858.00            $609.00            72.088358              71.613306        91.683992          86.590437          79.209979\n",
      "Rodriguez High School  Government            3999       $2,547,363.00            $637.00            72.047762              70.935984        90.797699          87.396849          79.419855\n",
      "  Shelton High School Independent            1761       $1,056,600.00            $600.00            72.034072              70.257808        91.538898          86.712095          78.875639\n",
      "   Thomas High School Independent            1635       $1,043,130.00            $638.00            69.581651              69.768807        83.853211          82.629969          69.480122\n",
      "   Wilson High School Independent            2283       $1,319,574.00            $578.00            69.170828              68.876916        82.785808          81.296540          67.455103\n",
      "   Wright High School Independent            1800       $1,049,400.00            $583.00            72.047222              70.969444        91.777778          86.666667          79.722222\n"
     ]
    },
    {
     "name": "stderr",
     "output_type": "stream",
     "text": [
      "/var/folders/82/73m8cjcn69lb5gvwvc4tnlq40000gn/T/ipykernel_37031/3353796532.py:8: FutureWarning: Indexing with multiple keys (implicitly converted to a tuple of keys) will be deprecated, use a list instead.\n",
      "  average_scores_per_school = school_data_complete.groupby('school_name')['maths_score', 'reading_score'].mean()\n"
     ]
    }
   ],
   "source": [
    "\n",
    "# Calculate the total student count for each school\n",
    "total_students_per_school = school_data_complete.groupby('school_name')['Student ID'].count()\n",
    "\n",
    "# Calculate the per student budget for each school\n",
    "school_data['Per Student Budget'] = school_data['budget'] / school_data['size']\n",
    "\n",
    "# Calculate the average test scores for each school\n",
    "average_scores_per_school = school_data_complete.groupby('school_name')['maths_score', 'reading_score'].mean()\n",
    "\n",
    "# Calculate the number of students passing math for each school\n",
    "passing_math_per_school = school_data_complete[school_data_complete['maths_score'] >= 50].groupby('school_name')['Student ID'].count()\n",
    "\n",
    "# Calculate the number of students passing reading for each school\n",
    "passing_reading_per_school = school_data_complete[school_data_complete['reading_score'] >= 50].groupby('school_name')['Student ID'].count()\n",
    "\n",
    "# Calculate the number of students passing both math and reading for each school\n",
    "passing_both_per_school = school_data_complete[(school_data_complete['maths_score'] >= 50) & (school_data_complete['reading_score'] >= 50)].groupby('school_name')['Student ID'].count()\n",
    "\n",
    "# Calculate the passing rates for each school\n",
    "passing_rates_per_school = pd.DataFrame({\n",
    "    '% Passing Maths': (passing_math_per_school / total_students_per_school) * 100,\n",
    "    '% Passing Reading': (passing_reading_per_school / total_students_per_school) * 100,\n",
    "    '% Overall Passing': (passing_both_per_school / total_students_per_school) * 100\n",
    "})\n",
    "\n",
    "# Convert the budget values to dollars\n",
    "school_data['Total School Budget'] = school_data['budget'].map('${:,.2f}'.format)\n",
    "\n",
    "# Convert the Per Student Budget in dollars\n",
    "school_data['Per Student Budget'] = school_data['Per Student Budget'].map('${:,.2f}'.format)\n",
    "\n",
    "# Create the per_school_summary DataFrame\n",
    "per_school_summary = pd.DataFrame({\n",
    "    'School Type': school_data.set_index('school_name')['type'],\n",
    "    'Total Students': total_students_per_school,\n",
    "    'Total School Budget': school_data.set_index('school_name')['Total School Budget'],\n",
    "    'Per Student Budget': school_data.set_index('school_name')['Per Student Budget'],\n",
    "    'Average Maths Score': average_scores_per_school['maths_score'],\n",
    "    'Average Reading Score': average_scores_per_school['reading_score'],\n",
    "    '% Passing Maths': passing_rates_per_school['% Passing Maths'],\n",
    "    '% Passing Reading': passing_rates_per_school['% Passing Reading'],\n",
    "    '% Overall Passing': passing_rates_per_school['% Overall Passing']\n",
    "})\n",
    "\n",
    "# Display the per_school_summary DataFrame in a tabular format\n",
    "\n",
    "per_school_summary.reset_index(inplace=True)\n",
    "print(per_school_summary.to_string(index=False))\n"
   ]
  },
  {
   "cell_type": "markdown",
   "metadata": {},
   "source": [
    "## Top Performing Schools (By % Overall Passing)"
   ]
  },
  {
   "cell_type": "code",
   "execution_count": 51,
   "metadata": {
    "scrolled": true
   },
   "outputs": [
    {
     "name": "stdout",
     "output_type": "stream",
     "text": [
      "          school_name School Type  Total Students Total School Budget Per Student Budget  Average Maths Score  Average Reading Score  % Passing Maths  % Passing Reading  % Overall Passing\n",
      "  Griffin High School Independent            1468         $917,500.00            $625.00            71.788147              71.245232        91.212534          88.487738          81.335150\n",
      "  Cabrera High School Independent            1858       $1,081,356.00            $582.00            71.657158              71.359526        90.850377          89.074273          80.785791\n",
      "   Bailey High School  Government            4976       $3,124,928.00            $628.00            72.352894              71.008842        91.639871          87.379421          80.084405\n",
      "   Wright High School Independent            1800       $1,049,400.00            $583.00            72.047222              70.969444        91.777778          86.666667          79.722222\n",
      "Rodriguez High School  Government            3999       $2,547,363.00            $637.00            72.047762              70.935984        90.797699          87.396849          79.419855\n"
     ]
    }
   ],
   "source": [
    "# Sort the schools by '% Overall Passing' in descending order\n",
    "top_schools = per_school_summary.sort_values(by='% Overall Passing', ascending=False).head(5)\n",
    "\n",
    "# Display the top_schools DataFrame\n",
    "\n",
    "print(top_schools.to_string(index=False))"
   ]
  },
  {
   "cell_type": "markdown",
   "metadata": {},
   "source": [
    "## Bottom Performing Schools (By % Overall Passing)"
   ]
  },
  {
   "cell_type": "code",
   "execution_count": 52,
   "metadata": {},
   "outputs": [
    {
     "name": "stdout",
     "output_type": "stream",
     "text": [
      "          school_name School Type  Total Students Total School Budget Per Student Budget  Average Maths Score  Average Reading Score  % Passing Maths  % Passing Reading  % Overall Passing\n",
      "Hernandez High School  Government            4635       $3,022,020.00            $652.00            68.874865              69.186408        80.949299          81.877023          66.364617\n",
      "    Huang High School  Government            2917       $1,910,635.00            $655.00            68.935207              68.910525        81.693521          81.453548          66.712376\n",
      "  Johnson High School  Government            4761       $3,094,650.00            $650.00            68.843100              69.039277        82.062592          81.978576          67.191766\n",
      "   Wilson High School Independent            2283       $1,319,574.00            $578.00            69.170828              68.876916        82.785808          81.296540          67.455103\n",
      "     Ford High School  Government            2739       $1,763,916.00            $644.00            69.091274              69.572472        82.438846          82.219788          67.469880\n"
     ]
    }
   ],
   "source": [
    "# Sort the schools by '% Overall Passing' in ascending order and select the first 5 rows\n",
    "bottom_schools = per_school_summary.sort_values(by='% Overall Passing').head(5)\n",
    "\n",
    "# Display the bottom_schools DataFrame\n",
    "print(bottom_schools.to_string(index=False))"
   ]
  },
  {
   "cell_type": "markdown",
   "metadata": {
    "collapsed": true
   },
   "source": [
    "## Maths Scores by Year"
   ]
  },
  {
   "cell_type": "code",
   "execution_count": 53,
   "metadata": {},
   "outputs": [
    {
     "name": "stdout",
     "output_type": "stream",
     "text": [
      "          school_name    Year 9   Year 10   Year 11   Year 12\n",
      "   Bailey High School 72.493827 71.897498 72.374900 72.675097\n",
      "  Cabrera High School 72.321970 72.437768 71.008299 70.604712\n",
      " Figueroa High School 68.477804 68.331586 68.811001 69.325282\n",
      "     Ford High School 69.021609 69.387006 69.248862 68.617811\n",
      "  Griffin High School 72.789731 71.093596 71.692521 71.469178\n",
      "Hernandez High School 68.586831 68.867156 69.154412 68.985075\n",
      "   Holden High School 70.543307 75.105263 71.640777 73.409639\n",
      "    Huang High School 69.081754 68.533246 69.431345 68.639316\n",
      "  Johnson High School 69.469286 67.990220 68.637730 69.287393\n",
      "     Pena High School 71.996364 72.396000 72.523438 71.187845\n",
      "Rodriguez High School 71.940722 71.779808 72.364811 72.154626\n",
      "  Shelton High School 72.932075 72.506696 70.097087 72.331536\n",
      "   Thomas High School 69.234273 70.057007 69.657831 69.369822\n",
      "   Wilson High School 69.212361 69.455446 68.378965 69.787472\n",
      "   Wright High School 71.741176 72.179012 73.275862 70.848238\n"
     ]
    }
   ],
   "source": [
    "\n",
    "# Using the groupby to calculate maths score for students of each year level at each school\n",
    "maths_scores_by_year = school_data_complete.groupby(['school_name', 'year'])['maths_score'].mean()\n",
    "\n",
    "# Convert the Series to a DataFrame\n",
    "maths_scores_by_year = maths_scores_by_year.reset_index()\n",
    "\n",
    "# Pivot the DataFrame to have years as columns\n",
    "maths_scores_by_year = maths_scores_by_year.pivot(index='school_name', columns='year', values='maths_score')\n",
    "\n",
    "# Rename the columns to represent the year levels\n",
    "maths_scores_by_year.columns = ['Year 9', 'Year 10', 'Year 11', 'Year 12']\n",
    "\n",
    "# Display the maths_scores_by_year DataFrame\n",
    "maths_scores_by_year.reset_index(inplace=True)\n",
    "print(maths_scores_by_year.to_string(index=False))\n"
   ]
  },
  {
   "cell_type": "markdown",
   "metadata": {},
   "source": [
    "## Reading Score by Year"
   ]
  },
  {
   "cell_type": "code",
   "execution_count": 55,
   "metadata": {},
   "outputs": [
    {
     "name": "stdout",
     "output_type": "stream",
     "text": [
      "          school_name    Year 9   Year 10   Year 11   Year 12\n",
      "   Bailey High School 70.901920 70.848265 70.317346 72.195525\n",
      "  Cabrera High School 71.172348 71.328326 71.201245 71.856021\n",
      " Figueroa High School 70.261682 67.677588 69.152327 69.082126\n",
      "     Ford High School 69.615846 68.988701 70.735964 68.849722\n",
      "  Griffin High School 72.026895 70.746305 72.385042 69.434932\n",
      "Hernandez High School 68.477569 70.621842 68.418199 69.244136\n",
      "   Holden High School 71.598425 71.096491 73.310680 70.481928\n",
      "    Huang High School 68.670616 69.516297 68.740638 68.671795\n",
      "  Johnson High School 68.719286 69.295029 69.969115 67.992521\n",
      "     Pena High School 70.949091 72.324000 71.703125 71.513812\n",
      "Rodriguez High School 70.902921 70.137500 71.424453 71.414449\n",
      "  Shelton High School 70.715094 69.879464 71.150485 69.070081\n",
      "   Thomas High School 69.672451 69.741093 70.749398 68.730769\n",
      "   Wilson High School 68.683043 68.412541 68.796327 69.888143\n",
      "   Wright High School 71.823529 71.386831 70.475862 69.821138\n"
     ]
    }
   ],
   "source": [
    "# Using the groupby to calculate reading score for students of each year level at each school\n",
    "reading_scores_by_year = school_data_complete.groupby(['school_name', 'year'])['reading_score'].mean()\n",
    "\n",
    "# Convert the Series to a DataFrame\n",
    "reading_scores_by_year = reading_scores_by_year.reset_index()\n",
    "\n",
    "# Pivot the DataFrame to have years as columns\n",
    "reading_scores_by_year = reading_scores_by_year.pivot(index='school_name', columns='year', values='reading_score')\n",
    "\n",
    "# Rename the columns to represent the year levels\n",
    "reading_scores_by_year.columns = ['Year 9', 'Year 10', 'Year 11', 'Year 12']\n",
    "\n",
    "# Display the maths_scores_by_year DataFrame\n",
    "reading_scores_by_year.reset_index(inplace=True)\n",
    "print(reading_scores_by_year.to_string(index=False))"
   ]
  },
  {
   "cell_type": "markdown",
   "metadata": {},
   "source": [
    "## Scores by School Spending"
   ]
  },
  {
   "cell_type": "code",
   "execution_count": 64,
   "metadata": {},
   "outputs": [
    {
     "ename": "KeyError",
     "evalue": "'Column not found: Average Maths Score'",
     "output_type": "error",
     "traceback": [
      "\u001b[0;31m---------------------------------------------------------------------------\u001b[0m",
      "\u001b[0;31mKeyError\u001b[0m                                  Traceback (most recent call last)",
      "Cell \u001b[0;32mIn[64], line 27\u001b[0m\n\u001b[1;32m     12\u001b[0m per_school_summary \u001b[39m=\u001b[39m pd\u001b[39m.\u001b[39mDataFrame({\n\u001b[1;32m     13\u001b[0m     \u001b[39m'\u001b[39m\u001b[39mSchool Type\u001b[39m\u001b[39m'\u001b[39m: school_data\u001b[39m.\u001b[39mset_index(\u001b[39m'\u001b[39m\u001b[39mschool_name\u001b[39m\u001b[39m'\u001b[39m)[\u001b[39m'\u001b[39m\u001b[39mtype\u001b[39m\u001b[39m'\u001b[39m],\n\u001b[1;32m     14\u001b[0m     \u001b[39m'\u001b[39m\u001b[39mTotal Students\u001b[39m\u001b[39m'\u001b[39m: total_students_per_school,\n\u001b[0;32m   (...)\u001b[0m\n\u001b[1;32m     21\u001b[0m     \u001b[39m'\u001b[39m\u001b[39m%\u001b[39m\u001b[39m Overall Passing\u001b[39m\u001b[39m'\u001b[39m: passing_rates_per_school[\u001b[39m'\u001b[39m\u001b[39m%\u001b[39m\u001b[39m Overall Passing\u001b[39m\u001b[39m'\u001b[39m]\n\u001b[1;32m     22\u001b[0m })\n\u001b[1;32m     24\u001b[0m \u001b[39m# Calculate the average maths score, average reading score, % passing maths, % passing reading,\u001b[39;00m\n\u001b[1;32m     25\u001b[0m \u001b[39m# and overall passing rate for each spending range\u001b[39;00m\n\u001b[0;32m---> 27\u001b[0m spending_math_scores \u001b[39m=\u001b[39m school_data_complete\u001b[39m.\u001b[39;49mgroupby([\u001b[39m\"\u001b[39;49m\u001b[39mSpending Ranges (Per Student)\u001b[39;49m\u001b[39m\"\u001b[39;49m])[\u001b[39m\"\u001b[39;49m\u001b[39mAverage Maths Score\u001b[39;49m\u001b[39m\"\u001b[39;49m]\u001b[39m.\u001b[39mmean()\n\u001b[1;32m     28\u001b[0m spending_reading_scores \u001b[39m=\u001b[39m school_data_complete\u001b[39m.\u001b[39mgroupby([\u001b[39m\"\u001b[39m\u001b[39mSpending Ranges (Per Student)\u001b[39m\u001b[39m\"\u001b[39m])[\u001b[39m\"\u001b[39m\u001b[39mAverage Reading Score\u001b[39m\u001b[39m\"\u001b[39m]\u001b[39m.\u001b[39mmean()\n\u001b[1;32m     29\u001b[0m spending_passing_math \u001b[39m=\u001b[39m school_data_complete\u001b[39m.\u001b[39mgroupby([\u001b[39m\"\u001b[39m\u001b[39mSpending Ranges (Per Student)\u001b[39m\u001b[39m\"\u001b[39m])[\u001b[39m\"\u001b[39m\u001b[39m%\u001b[39m\u001b[39m Passing Math\u001b[39m\u001b[39m\"\u001b[39m]\u001b[39m.\u001b[39mmean()\n",
      "File \u001b[0;32m~/anaconda3/envs/dev/lib/python3.10/site-packages/pandas/core/groupby/generic.py:1416\u001b[0m, in \u001b[0;36mDataFrameGroupBy.__getitem__\u001b[0;34m(self, key)\u001b[0m\n\u001b[1;32m   1407\u001b[0m \u001b[39mif\u001b[39;00m \u001b[39misinstance\u001b[39m(key, \u001b[39mtuple\u001b[39m) \u001b[39mand\u001b[39;00m \u001b[39mlen\u001b[39m(key) \u001b[39m>\u001b[39m \u001b[39m1\u001b[39m:\n\u001b[1;32m   1408\u001b[0m     \u001b[39m# if len == 1, then it becomes a SeriesGroupBy and this is actually\u001b[39;00m\n\u001b[1;32m   1409\u001b[0m     \u001b[39m# valid syntax, so don't raise warning\u001b[39;00m\n\u001b[1;32m   1410\u001b[0m     warnings\u001b[39m.\u001b[39mwarn(\n\u001b[1;32m   1411\u001b[0m         \u001b[39m\"\u001b[39m\u001b[39mIndexing with multiple keys (implicitly converted to a tuple \u001b[39m\u001b[39m\"\u001b[39m\n\u001b[1;32m   1412\u001b[0m         \u001b[39m\"\u001b[39m\u001b[39mof keys) will be deprecated, use a list instead.\u001b[39m\u001b[39m\"\u001b[39m,\n\u001b[1;32m   1413\u001b[0m         \u001b[39mFutureWarning\u001b[39;00m,\n\u001b[1;32m   1414\u001b[0m         stacklevel\u001b[39m=\u001b[39mfind_stack_level(),\n\u001b[1;32m   1415\u001b[0m     )\n\u001b[0;32m-> 1416\u001b[0m \u001b[39mreturn\u001b[39;00m \u001b[39msuper\u001b[39;49m()\u001b[39m.\u001b[39;49m\u001b[39m__getitem__\u001b[39;49m(key)\n",
      "File \u001b[0;32m~/anaconda3/envs/dev/lib/python3.10/site-packages/pandas/core/base.py:248\u001b[0m, in \u001b[0;36mSelectionMixin.__getitem__\u001b[0;34m(self, key)\u001b[0m\n\u001b[1;32m    246\u001b[0m \u001b[39melse\u001b[39;00m:\n\u001b[1;32m    247\u001b[0m     \u001b[39mif\u001b[39;00m key \u001b[39mnot\u001b[39;00m \u001b[39min\u001b[39;00m \u001b[39mself\u001b[39m\u001b[39m.\u001b[39mobj:\n\u001b[0;32m--> 248\u001b[0m         \u001b[39mraise\u001b[39;00m \u001b[39mKeyError\u001b[39;00m(\u001b[39mf\u001b[39m\u001b[39m\"\u001b[39m\u001b[39mColumn not found: \u001b[39m\u001b[39m{\u001b[39;00mkey\u001b[39m}\u001b[39;00m\u001b[39m\"\u001b[39m)\n\u001b[1;32m    249\u001b[0m     subset \u001b[39m=\u001b[39m \u001b[39mself\u001b[39m\u001b[39m.\u001b[39mobj[key]\n\u001b[1;32m    250\u001b[0m     ndim \u001b[39m=\u001b[39m subset\u001b[39m.\u001b[39mndim\n",
      "\u001b[0;31mKeyError\u001b[0m: 'Column not found: Average Maths Score'"
     ]
    }
   ],
   "source": [
    "# Convert 'Per Student Budget' column to numeric by removing non-numeric characters and converting to float\n",
    "school_data['Per Student Budget'] = school_data['Per Student Budget'].replace('[\\$,]', '', regex=True).astype(float)\n",
    "\n",
    "# Define the spending bins and labels\n",
    "spending_bins = [0, 585, 630, 645, 680]\n",
    "spending_labels = ['<$585', '$585 - $630', '$630 - $645', '$645 - $680']\n",
    "\n",
    "# Group schools into spending ranges using cut\n",
    "school_data['Spending Ranges (Per Student)'] = pd.cut(school_data['Per Student Budget'], bins = spending_bins, labels = spending_labels)\n",
    "\n",
    "\n",
    "# Calculate the average maths score, average reading score, % passing maths, % passing reading,\n",
    "# and overall passing rate for each spending range\n",
    "\n",
    "spending_math_scores = school_data_complete.groupby([\"Spending Ranges (Per Student)\"])[\"Average Maths Score\"].mean()\n",
    "spending_reading_scores = school_data_complete.groupby([\"Spending Ranges (Per Student)\"])[\"Average Reading Score\"].mean()\n",
    "spending_passing_math = school_data_complete.groupby([\"Spending Ranges (Per Student)\"])[\"% Passing Math\"].mean()\n",
    "spending_passing_reading = school_data_complete.groupby([\"Spending Ranges (Per Student)\"])[\"% Passing Reading\"].mean()\n",
    "overall_passing_spending = school_data_complete.groupby([\"Spending Ranges (Per Student)\"])[\"% Overall Passing\"].mean()\n",
    "\n",
    "\n",
    "# Create a DataFrame to hold the results\n",
    "spending_summary = pd.DataFrame({\n",
    "    'Average Maths Score': spending_math_scores,\n",
    "    'Average Reading Score': spending_reading_scores,\n",
    "    '% Passing Maths': spending_passing_math,\n",
    "    '% Passing Reading': spending_passing_reading,\n",
    "    '% Overall Passing': overall_passing_spending\n",
    "})\n",
    "\n",
    "# Display the spending_summary DataFrame\n",
    "spending_summary.reset_index(inplace=True)\n",
    "print(spending_summary.to_string(index=False))"
   ]
  },
  {
   "cell_type": "markdown",
   "metadata": {},
   "source": [
    "* Perform the same operations as above, based on school size."
   ]
  },
  {
   "cell_type": "code",
   "execution_count": 22,
   "metadata": {
    "scrolled": true
   },
   "outputs": [
    {
     "data": {
      "text/html": [
       "<div>\n",
       "<style scoped>\n",
       "    .dataframe tbody tr th:only-of-type {\n",
       "        vertical-align: middle;\n",
       "    }\n",
       "\n",
       "    .dataframe tbody tr th {\n",
       "        vertical-align: top;\n",
       "    }\n",
       "\n",
       "    .dataframe thead th {\n",
       "        text-align: right;\n",
       "    }\n",
       "</style>\n",
       "<table border=\"1\" class=\"dataframe\">\n",
       "  <thead>\n",
       "    <tr style=\"text-align: right;\">\n",
       "      <th></th>\n",
       "      <th>Average Maths Score</th>\n",
       "      <th>Average Reading Score</th>\n",
       "      <th>% Passing Maths</th>\n",
       "      <th>% Passing Reading</th>\n",
       "      <th>% Overall Passing</th>\n",
       "    </tr>\n",
       "    <tr>\n",
       "      <th>School Size</th>\n",
       "      <th></th>\n",
       "      <th></th>\n",
       "      <th></th>\n",
       "      <th></th>\n",
       "      <th></th>\n",
       "    </tr>\n",
       "  </thead>\n",
       "  <tbody>\n",
       "    <tr>\n",
       "      <th>Small (&lt;1000)</th>\n",
       "      <td>72.335748</td>\n",
       "      <td>71.636864</td>\n",
       "      <td>90.806867</td>\n",
       "      <td>87.557513</td>\n",
       "      <td>79.066348</td>\n",
       "    </tr>\n",
       "    <tr>\n",
       "      <th>Medium (1000-2000)</th>\n",
       "      <td>71.421650</td>\n",
       "      <td>70.720164</td>\n",
       "      <td>89.846560</td>\n",
       "      <td>86.714149</td>\n",
       "      <td>78.039785</td>\n",
       "    </tr>\n",
       "    <tr>\n",
       "      <th>Large (2000-5000)</th>\n",
       "      <td>69.751809</td>\n",
       "      <td>69.576052</td>\n",
       "      <td>84.252804</td>\n",
       "      <td>83.301185</td>\n",
       "      <td>70.293507</td>\n",
       "    </tr>\n",
       "  </tbody>\n",
       "</table>\n",
       "</div>"
      ],
      "text/plain": [
       "                    Average Maths Score  Average Reading Score  \\\n",
       "School Size                                                      \n",
       "Small (<1000)                 72.335748              71.636864   \n",
       "Medium (1000-2000)            71.421650              70.720164   \n",
       "Large (2000-5000)             69.751809              69.576052   \n",
       "\n",
       "                    % Passing Maths  % Passing Reading  % Overall Passing  \n",
       "School Size                                                                \n",
       "Small (<1000)             90.806867          87.557513          79.066348  \n",
       "Medium (1000-2000)        89.846560          86.714149          78.039785  \n",
       "Large (2000-5000)         84.252804          83.301185          70.293507  "
      ]
     },
     "execution_count": 22,
     "metadata": {},
     "output_type": "execute_result"
    }
   ],
   "source": []
  },
  {
   "cell_type": "markdown",
   "metadata": {},
   "source": [
    "## Scores by School Type"
   ]
  },
  {
   "cell_type": "markdown",
   "metadata": {},
   "source": [
    "* Perform the same operations as above, based on school type"
   ]
  },
  {
   "cell_type": "code",
   "execution_count": 24,
   "metadata": {},
   "outputs": [
    {
     "data": {
      "text/html": [
       "<div>\n",
       "<style scoped>\n",
       "    .dataframe tbody tr th:only-of-type {\n",
       "        vertical-align: middle;\n",
       "    }\n",
       "\n",
       "    .dataframe tbody tr th {\n",
       "        vertical-align: top;\n",
       "    }\n",
       "\n",
       "    .dataframe thead th {\n",
       "        text-align: right;\n",
       "    }\n",
       "</style>\n",
       "<table border=\"1\" class=\"dataframe\">\n",
       "  <thead>\n",
       "    <tr style=\"text-align: right;\">\n",
       "      <th></th>\n",
       "      <th>Average Maths Score</th>\n",
       "      <th>Average Reading Score</th>\n",
       "      <th>% Passing Maths</th>\n",
       "      <th>% Passing Reading</th>\n",
       "      <th>% Overall Passing</th>\n",
       "    </tr>\n",
       "    <tr>\n",
       "      <th>School Type</th>\n",
       "      <th></th>\n",
       "      <th></th>\n",
       "      <th></th>\n",
       "      <th></th>\n",
       "      <th></th>\n",
       "    </tr>\n",
       "  </thead>\n",
       "  <tbody>\n",
       "    <tr>\n",
       "      <th>Government</th>\n",
       "      <td>69.834806</td>\n",
       "      <td>69.675929</td>\n",
       "      <td>84.462375</td>\n",
       "      <td>83.587562</td>\n",
       "      <td>70.698993</td>\n",
       "    </tr>\n",
       "    <tr>\n",
       "      <th>Independent</th>\n",
       "      <td>71.368822</td>\n",
       "      <td>70.718933</td>\n",
       "      <td>89.204043</td>\n",
       "      <td>86.247789</td>\n",
       "      <td>76.973340</td>\n",
       "    </tr>\n",
       "  </tbody>\n",
       "</table>\n",
       "</div>"
      ],
      "text/plain": [
       "             Average Maths Score  Average Reading Score  % Passing Maths  \\\n",
       "School Type                                                                \n",
       "Government             69.834806              69.675929        84.462375   \n",
       "Independent            71.368822              70.718933        89.204043   \n",
       "\n",
       "             % Passing Reading  % Overall Passing  \n",
       "School Type                                        \n",
       "Government           83.587562          70.698993  \n",
       "Independent          86.247789          76.973340  "
      ]
     },
     "execution_count": 24,
     "metadata": {},
     "output_type": "execute_result"
    }
   ],
   "source": []
  },
  {
   "cell_type": "code",
   "execution_count": null,
   "metadata": {},
   "outputs": [],
   "source": []
  }
 ],
 "metadata": {
  "anaconda-cloud": {},
  "kernel_info": {
   "name": "python3"
  },
  "kernelspec": {
   "display_name": "Python 3 (ipykernel)",
   "language": "python",
   "name": "python3"
  },
  "language_info": {
   "codemirror_mode": {
    "name": "ipython",
    "version": 3
   },
   "file_extension": ".py",
   "mimetype": "text/x-python",
   "name": "python",
   "nbconvert_exporter": "python",
   "pygments_lexer": "ipython3",
   "version": "3.10.11"
  },
  "latex_envs": {
   "LaTeX_envs_menu_present": true,
   "autoclose": false,
   "autocomplete": true,
   "bibliofile": "biblio.bib",
   "cite_by": "apalike",
   "current_citInitial": 1,
   "eqLabelWithNumbers": true,
   "eqNumInitial": 1,
   "hotkeys": {
    "equation": "Ctrl-E",
    "itemize": "Ctrl-I"
   },
   "labels_anchors": false,
   "latex_user_defs": false,
   "report_style_numbering": false,
   "user_envs_cfg": false
  },
  "nteract": {
   "version": "0.8.4"
  }
 },
 "nbformat": 4,
 "nbformat_minor": 1
}
